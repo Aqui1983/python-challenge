{
 "cells": [
  {
   "cell_type": "code",
   "execution_count": 19,
   "id": "7ad0c291-06c7-46b9-8ccd-8409e89c8d49",
   "metadata": {},
   "outputs": [],
   "source": [
    "#Importing Libraries\n",
    "import csv\n",
    "from pathlib import Path\n"
   ]
  },
  {
   "cell_type": "code",
   "execution_count": 20,
   "id": "2af4b73b-ca7e-4aca-b620-9f69c4e32237",
   "metadata": {},
   "outputs": [],
   "source": [
    "# attaching the apprpriate file to read\n",
    "budget_data_path = Path(\"./Resources/budget_data.csv\") "
   ]
  },
  {
   "cell_type": "code",
   "execution_count": 21,
   "id": "ea7eb7ae-b172-4b65-a884-30b2c8cd22c3",
   "metadata": {},
   "outputs": [],
   "source": [
    "# setting up all of the appropriate lists\n",
    "total_months = 0\n",
    "net_pnl = 0\n",
    "average_change_pnl = 0\n",
    "change_list = []\n",
    "months_list = []\n",
    "greatest_increase = [\"\",0]\n",
    "greatest_decrease = [\"\",99999999999999999999999999]"
   ]
  },
  {
   "cell_type": "code",
   "execution_count": 22,
   "id": "9584d510-19e8-451f-9307-7eb21f0ab017",
   "metadata": {},
   "outputs": [],
   "source": [
    "#Setting up my with statement and csv reader\n",
    "with open(budget_data_path) as budget_data:\n",
    "    reader = csv.reader(budget_data)\n",
    "    #skipping header\n",
    "    header = next(reader)\n",
    "    #setting up the loop\n",
    "    row_1 = next(reader)\n",
    "    #making sure that my total months increase by 1 \n",
    "    total_months += 1\n",
    "    #net pnl should equal the first row second object\n",
    "    net_pnl += int(row_1[1])\n",
    "    #Then previous pnl will take over from here\n",
    "    previous_pnl = int(row_1[1])\n",
    "    #Here is my For Statement with my looping functions\n",
    "    for budget in reader:\n",
    "        total_months += 1\n",
    "        net_pnl += int(budget[1])\n",
    "        change = int(budget[1]) - previous_pnl\n",
    "        previous_pnl = int(budget[1])\n",
    "        #Making sure that the change list and month list get updated\n",
    "        change_list.append(change)\n",
    "        months_list.append(budget[0])\n",
    "        #making sure the largest increase is always kept\n",
    "        if change > greatest_increase[1]:\n",
    "            greatest_increase[0] = budget[0] \n",
    "            greatest_increase[1] = change\n",
    "        #making sure the largest decrease is always kept\n",
    "        if change < greatest_decrease[1]:\n",
    "            greatest_decrease[0] = budget[0]\n",
    "            greatest_decrease[1] = change\n"
   ]
  },
  {
   "cell_type": "code",
   "execution_count": 27,
   "id": "34d3ec04",
   "metadata": {},
   "outputs": [],
   "source": [
    "#making the average calculation\n",
    "average_change_pnl = net_pnl // total_months"
   ]
  },
  {
   "cell_type": "code",
   "execution_count": 38,
   "id": "76ff513b",
   "metadata": {},
   "outputs": [
    {
     "name": "stdout",
     "output_type": "stream",
     "text": [
      "Financial Analysis\n",
      "------------------------------\n",
      "Total Months: 86\n",
      "Total Profit/Loss: $38382578\n",
      "Average Change: $446309\n",
      "Greatest Increase in Profits: Feb-2012, $1926159\n",
      "Greratest Decrease in Profits: Sep-2013, $-2196167\n"
     ]
    }
   ],
   "source": [
    "#Setting up the format for final prints\n",
    "print(f\"Financial Analysis\")\n",
    "print(f\"------------------------------\")\n",
    "print(f\"Total Months: {total_months}\")\n",
    "print(f\"Total Profit/Loss: ${net_pnl}\")\n",
    "print(f\"Average Change: ${average_change_pnl}\")\n",
    "#The last two variables have to be split otherwise it wont print out in the desired format\n",
    "print(f\"Greatest Increase in Profits: {greatest_increase[0]}, ${greatest_increase[1]}\")\n",
    "print(f\"Greratest Decrease in Profits: {greatest_decrease[0]}, ${greatest_decrease[1]}\")\n"
   ]
  },
  {
   "cell_type": "code",
   "execution_count": 35,
   "id": "85de4c9c",
   "metadata": {},
   "outputs": [
    {
     "name": "stdout",
     "output_type": "stream",
     "text": [
      "[116771, -662642, -391430, 379920, 212354, 510239, -428211, -821271, 693918, 416278, -974163, 860159, -1115009, 1033048, 95318, -308093, 99052, -521393, 605450, 231727, -65187, -702716, 177975, -1065544, 1926159, -917805, 898730, -334262, -246499, -64055, -1529236, 1497596, 304914, -635801, 398319, -183161, -37864, -253689, 403655, 94168, 306877, -83000, 210462, -2196167, 1465222, -956983, 1838447, -468003, -64602, 206242, -242155, -449079, 315198, 241099, 111540, 365942, -219310, -368665, 409837, 151210, -110244, -341938, -1212159, 683246, -70825, 335594, 417334, -272194, -236462, 657432, -211262, -128237, -1750387, 925441, 932089, -311434, 267252, -1876758, 1733696, 198551, -665765, 693229, -734926, 77242, 532869]\n"
     ]
    }
   ],
   "source": [
    "print(change_list)"
   ]
  },
  {
   "cell_type": "code",
   "execution_count": null,
   "id": "ed79af5f",
   "metadata": {},
   "outputs": [],
   "source": []
  }
 ],
 "metadata": {
  "kernelspec": {
   "display_name": "Python 3 (ipykernel)",
   "language": "python",
   "name": "python3"
  },
  "language_info": {
   "codemirror_mode": {
    "name": "ipython",
    "version": 3
   },
   "file_extension": ".py",
   "mimetype": "text/x-python",
   "name": "python",
   "nbconvert_exporter": "python",
   "pygments_lexer": "ipython3",
   "version": "3.10.5"
  },
  "vscode": {
   "interpreter": {
    "hash": "aee8b7b246df8f9039afb4144a1f6fd8d2ca17a180786b69acc140d282b71a49"
   }
  }
 },
 "nbformat": 4,
 "nbformat_minor": 5
}
