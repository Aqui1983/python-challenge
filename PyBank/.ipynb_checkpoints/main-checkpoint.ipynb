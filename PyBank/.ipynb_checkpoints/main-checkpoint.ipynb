{
 "cells": [
  {
   "cell_type": "code",
   "execution_count": null,
   "id": "1ae2a277-25f6-4371-8abc-9310fd378ba6",
   "metadata": {},
   "outputs": [],
   "source": []
  },
  {
   "cell_type": "code",
   "execution_count": 46,
   "id": "7ad0c291-06c7-46b9-8ccd-8409e89c8d49",
   "metadata": {},
   "outputs": [],
   "source": [
    "import csv\n",
    "from pathlib import Path\n"
   ]
  },
  {
   "cell_type": "code",
   "execution_count": 47,
   "id": "2af4b73b-ca7e-4aca-b620-9f69c4e32237",
   "metadata": {},
   "outputs": [],
   "source": [
    "budget_data_path = Path(\"../Resources/budget_data.csv\")"
   ]
  },
  {
   "cell_type": "code",
   "execution_count": 48,
   "id": "ea7eb7ae-b172-4b65-a884-30b2c8cd22c3",
   "metadata": {},
   "outputs": [],
   "source": [
    "total_months = 0\n",
    "net_pnl = 0\n",
    "average_change_pnl = 0\n",
    "change_list = []\n",
    "months_list = []\n",
    "greatest_increase = [\"\",0]\n",
    "greatest_decrease = [\"\",0]"
   ]
  },
  {
   "cell_type": "code",
   "execution_count": 49,
   "id": "9584d510-19e8-451f-9307-7eb21f0ab017",
   "metadata": {},
   "outputs": [
    {
     "ename": "FileNotFoundError",
     "evalue": "[Errno 2] No such file or directory: '../Resources/budget_data.csv'",
     "output_type": "error",
     "traceback": [
      "\u001b[0;31m---------------------------------------------------------------------------\u001b[0m",
      "\u001b[0;31mFileNotFoundError\u001b[0m                         Traceback (most recent call last)",
      "Input \u001b[0;32mIn [49]\u001b[0m, in \u001b[0;36m<cell line: 1>\u001b[0;34m()\u001b[0m\n\u001b[0;32m----> 1\u001b[0m \u001b[38;5;28;01mwith\u001b[39;00m \u001b[38;5;28;43mopen\u001b[39;49m\u001b[43m(\u001b[49m\u001b[43mbudget_data_path\u001b[49m\u001b[43m)\u001b[49m \u001b[38;5;28;01mas\u001b[39;00m budget_data:\n\u001b[1;32m      2\u001b[0m     reader \u001b[38;5;241m=\u001b[39m csv\u001b[38;5;241m.\u001b[39mreader(budget_data)\n\u001b[1;32m      3\u001b[0m     header \u001b[38;5;241m=\u001b[39m \u001b[38;5;28mnext\u001b[39m(reader)\n",
      "\u001b[0;31mFileNotFoundError\u001b[0m: [Errno 2] No such file or directory: '../Resources/budget_data.csv'"
     ]
    }
   ],
   "source": [
    "with open(budget_data_path) as budget_data:\n",
    "    reader = csv.reader(budget_data)\n",
    "    header = next(reader)\n",
    "    row_1 = next(reader)\n",
    "    total_months += 1\n",
    "    net_pnl += int(row_1[1])\n",
    "    previous_pnl = int(row_1[1])\n",
    "    for budget in reader:\n",
    "        total_months += 1\n",
    "        net_pnl += int(budget[1])\n",
    "        change = int(budget[1]) - previous_pnl\n",
    "        previous_pnl = int(budget[1])\n",
    "        change_list.append(change)\n",
    "        months_list.append(budget[0])\n",
    "        if change > greatest_increase[1]:\n",
    "            greatest_increase[0] = budget[0] \n",
    "            greatest_increase[1] = change\n",
    "        \n",
    "        if change < greatest_decrease[1]:\n",
    "            greatest_decrease[0] = budget[0]\n",
    "            greatest_decrease[1] = change\n",
    "            \n",
    "            \n",
    "        \n",
    "        #if change > second element in greatest increase -> update both elements\n",
    "         #greates_increase[0] = the current month\n",
    "            # greatest_increase[1] = change"
   ]
  },
  {
   "cell_type": "code",
   "execution_count": null,
   "id": "375b1b1e-314f-49ba-8b23-d5c2462d1444",
   "metadata": {},
   "outputs": [],
   "source": []
  }
 ],
 "metadata": {
  "kernelspec": {
   "display_name": "Python 3 (ipykernel)",
   "language": "python",
   "name": "python3"
  },
  "language_info": {
   "codemirror_mode": {
    "name": "ipython",
    "version": 3
   },
   "file_extension": ".py",
   "mimetype": "text/x-python",
   "name": "python",
   "nbconvert_exporter": "python",
   "pygments_lexer": "ipython3",
   "version": "3.9.12"
  }
 },
 "nbformat": 4,
 "nbformat_minor": 5
}
