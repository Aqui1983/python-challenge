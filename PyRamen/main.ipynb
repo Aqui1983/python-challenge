{
 "cells": [
  {
   "cell_type": "code",
   "execution_count": 2,
   "metadata": {},
   "outputs": [],
   "source": [
    "#Importing the appropriate libraries\n",
    "import csv\n",
    "from pathlib import Path"
   ]
  },
  {
   "cell_type": "code",
   "execution_count": 4,
   "metadata": {},
   "outputs": [],
   "source": [
    "#Attaching all the files to read\n",
    "menu_data_path = Path(\"./Resources/menu_data.csv\")\n",
    "sales_data_path = Path(\"./Resources/sales_data.csv\")"
   ]
  },
  {
   "cell_type": "code",
   "execution_count": 6,
   "metadata": {},
   "outputs": [],
   "source": [
    "#Setting up the lists and dictionaries needed to read and manipulate the data\n",
    "menu_dict = {}\n",
    "sales_item_dict = {}\n",
    "item_list  = []\n",
    "category_list = []\n",
    "description_list = []\n",
    "price_list = []\n",
    "cost_list = []\n",
    "line_item_id = []\n",
    "data_list = []\n",
    "cc_number_list = []\n",
    "quantity_of_menu_items_list = [\",\"]\n",
    "cogs = 0\n",
    "revenue = 0\n",
    "count = 0\n",
    "profit = 0\n",
    "\n"
   ]
  },
  {
   "cell_type": "code",
   "execution_count": null,
   "metadata": {},
   "outputs": [],
   "source": [
    "#Setting up With Statement and csv reader\n",
    "with open(menu__data_path) as menu_data:\n",
    "    reader = csv.reader(menu_data)\n",
    "    #Skipping header\n",
    "    header = next(reader)\n",
    "    #Setiting up the loop for menu_data\n",
    "    row_1 = next(reader)\n"
   ]
  }
 ],
 "metadata": {
  "kernelspec": {
   "display_name": "Python 3.10.5 64-bit",
   "language": "python",
   "name": "python3"
  },
  "language_info": {
   "codemirror_mode": {
    "name": "ipython",
    "version": 3
   },
   "file_extension": ".py",
   "mimetype": "text/x-python",
   "name": "python",
   "nbconvert_exporter": "python",
   "pygments_lexer": "ipython3",
   "version": "3.10.5"
  },
  "orig_nbformat": 4,
  "vscode": {
   "interpreter": {
    "hash": "aee8b7b246df8f9039afb4144a1f6fd8d2ca17a180786b69acc140d282b71a49"
   }
  }
 },
 "nbformat": 4,
 "nbformat_minor": 2
}
